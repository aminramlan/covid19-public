{
 "metadata": {
  "language_info": {
   "codemirror_mode": {
    "name": "ipython",
    "version": 3
   },
   "file_extension": ".py",
   "mimetype": "text/x-python",
   "name": "python",
   "nbconvert_exporter": "python",
   "pygments_lexer": "ipython3",
   "version": "3.9.0"
  },
  "orig_nbformat": 4,
  "kernelspec": {
   "name": "python3",
   "display_name": "Python 3.9.0 64-bit"
  },
  "interpreter": {
   "hash": "c9861897997b880170ad058e1c8a71e933c9ba6ef080253e9ad8e5dcc2013a6a"
  }
 },
 "nbformat": 4,
 "nbformat_minor": 2,
 "cells": [
  {
   "cell_type": "code",
   "execution_count": 1,
   "metadata": {},
   "outputs": [
    {
     "output_type": "execute_result",
     "data": {
      "text/plain": [
       "           date  cases_new  cluster_import  cluster_religious  \\\n",
       "0    2020-03-16        553             NaN                NaN   \n",
       "1    2020-03-17        120             NaN                NaN   \n",
       "2    2020-03-18        117             NaN                NaN   \n",
       "3    2020-03-19        110             NaN                NaN   \n",
       "4    2020-03-20        130             NaN                NaN   \n",
       "..          ...        ...             ...                ...   \n",
       "490  2021-07-19      10972             4.0                0.0   \n",
       "491  2021-07-20      12366             0.0                0.0   \n",
       "492  2021-07-21      11985             0.0               19.0   \n",
       "493  2021-07-22      13034             0.0                2.0   \n",
       "494  2021-07-23      15573             0.0               19.0   \n",
       "\n",
       "     cluster_community  cluster_highRisk  cluster_education  \\\n",
       "0                  NaN               NaN                NaN   \n",
       "1                  NaN               NaN                NaN   \n",
       "2                  NaN               NaN                NaN   \n",
       "3                  NaN               NaN                NaN   \n",
       "4                  NaN               NaN                NaN   \n",
       "..                 ...               ...                ...   \n",
       "490              416.0              55.0               22.0   \n",
       "491              369.0             128.0               20.0   \n",
       "492              463.0             107.0               89.0   \n",
       "493              611.0              72.0               52.0   \n",
       "494              474.0             142.0               17.0   \n",
       "\n",
       "     cluster_detentionCentre  cluster_workplace  \n",
       "0                        NaN                NaN  \n",
       "1                        NaN                NaN  \n",
       "2                        NaN                NaN  \n",
       "3                        NaN                NaN  \n",
       "4                        NaN                NaN  \n",
       "..                       ...                ...  \n",
       "490                    247.0             1358.0  \n",
       "491                    369.0             1062.0  \n",
       "492                     77.0              952.0  \n",
       "493                    191.0             1163.0  \n",
       "494                    101.0              864.0  \n",
       "\n",
       "[495 rows x 9 columns]"
      ],
      "text/html": "<div>\n<style scoped>\n    .dataframe tbody tr th:only-of-type {\n        vertical-align: middle;\n    }\n\n    .dataframe tbody tr th {\n        vertical-align: top;\n    }\n\n    .dataframe thead th {\n        text-align: right;\n    }\n</style>\n<table border=\"1\" class=\"dataframe\">\n  <thead>\n    <tr style=\"text-align: right;\">\n      <th></th>\n      <th>date</th>\n      <th>cases_new</th>\n      <th>cluster_import</th>\n      <th>cluster_religious</th>\n      <th>cluster_community</th>\n      <th>cluster_highRisk</th>\n      <th>cluster_education</th>\n      <th>cluster_detentionCentre</th>\n      <th>cluster_workplace</th>\n    </tr>\n  </thead>\n  <tbody>\n    <tr>\n      <th>0</th>\n      <td>2020-03-16</td>\n      <td>553</td>\n      <td>NaN</td>\n      <td>NaN</td>\n      <td>NaN</td>\n      <td>NaN</td>\n      <td>NaN</td>\n      <td>NaN</td>\n      <td>NaN</td>\n    </tr>\n    <tr>\n      <th>1</th>\n      <td>2020-03-17</td>\n      <td>120</td>\n      <td>NaN</td>\n      <td>NaN</td>\n      <td>NaN</td>\n      <td>NaN</td>\n      <td>NaN</td>\n      <td>NaN</td>\n      <td>NaN</td>\n    </tr>\n    <tr>\n      <th>2</th>\n      <td>2020-03-18</td>\n      <td>117</td>\n      <td>NaN</td>\n      <td>NaN</td>\n      <td>NaN</td>\n      <td>NaN</td>\n      <td>NaN</td>\n      <td>NaN</td>\n      <td>NaN</td>\n    </tr>\n    <tr>\n      <th>3</th>\n      <td>2020-03-19</td>\n      <td>110</td>\n      <td>NaN</td>\n      <td>NaN</td>\n      <td>NaN</td>\n      <td>NaN</td>\n      <td>NaN</td>\n      <td>NaN</td>\n      <td>NaN</td>\n    </tr>\n    <tr>\n      <th>4</th>\n      <td>2020-03-20</td>\n      <td>130</td>\n      <td>NaN</td>\n      <td>NaN</td>\n      <td>NaN</td>\n      <td>NaN</td>\n      <td>NaN</td>\n      <td>NaN</td>\n      <td>NaN</td>\n    </tr>\n    <tr>\n      <th>...</th>\n      <td>...</td>\n      <td>...</td>\n      <td>...</td>\n      <td>...</td>\n      <td>...</td>\n      <td>...</td>\n      <td>...</td>\n      <td>...</td>\n      <td>...</td>\n    </tr>\n    <tr>\n      <th>490</th>\n      <td>2021-07-19</td>\n      <td>10972</td>\n      <td>4.0</td>\n      <td>0.0</td>\n      <td>416.0</td>\n      <td>55.0</td>\n      <td>22.0</td>\n      <td>247.0</td>\n      <td>1358.0</td>\n    </tr>\n    <tr>\n      <th>491</th>\n      <td>2021-07-20</td>\n      <td>12366</td>\n      <td>0.0</td>\n      <td>0.0</td>\n      <td>369.0</td>\n      <td>128.0</td>\n      <td>20.0</td>\n      <td>369.0</td>\n      <td>1062.0</td>\n    </tr>\n    <tr>\n      <th>492</th>\n      <td>2021-07-21</td>\n      <td>11985</td>\n      <td>0.0</td>\n      <td>19.0</td>\n      <td>463.0</td>\n      <td>107.0</td>\n      <td>89.0</td>\n      <td>77.0</td>\n      <td>952.0</td>\n    </tr>\n    <tr>\n      <th>493</th>\n      <td>2021-07-22</td>\n      <td>13034</td>\n      <td>0.0</td>\n      <td>2.0</td>\n      <td>611.0</td>\n      <td>72.0</td>\n      <td>52.0</td>\n      <td>191.0</td>\n      <td>1163.0</td>\n    </tr>\n    <tr>\n      <th>494</th>\n      <td>2021-07-23</td>\n      <td>15573</td>\n      <td>0.0</td>\n      <td>19.0</td>\n      <td>474.0</td>\n      <td>142.0</td>\n      <td>17.0</td>\n      <td>101.0</td>\n      <td>864.0</td>\n    </tr>\n  </tbody>\n</table>\n<p>495 rows × 9 columns</p>\n</div>"
     },
     "metadata": {},
     "execution_count": 1
    }
   ],
   "source": [
    "import pandas as pd \n",
    "\n",
    "cases_all = pd.read_csv('epidemic/cases_malaysia.csv')\n",
    "\n",
    "cases_all"
   ]
  }
 ]
}